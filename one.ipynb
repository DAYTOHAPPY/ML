{
 "cells": [
  {
   "cell_type": "code",
   "execution_count": 56,
   "metadata": {},
   "outputs": [
    {
     "data": {
      "text/plain": [
       "array([[0.43546486, 0.95373299, 0.62451963, 0.97926059],\n",
       "       [0.07987586, 0.7376458 , 0.45772955, 0.53426864],\n",
       "       [0.00551452, 0.04233951, 0.97187593, 0.96200945],\n",
       "       [0.8603588 , 0.98132231, 0.02840534, 0.07747148]])"
      ]
     },
     "execution_count": 56,
     "metadata": {},
     "output_type": "execute_result"
    }
   ],
   "source": [
    "import numpy as np\n",
    "import  matplotlib as mpl\n",
    "import pandas as pd\n",
    "\n",
    "\n",
    "np.random.rand(4,4)\n",
    "#  利用numpy库随机生成 4x4 数组"
   ]
  },
  {
   "attachments": {},
   "cell_type": "markdown",
   "metadata": {},
   "source": [
    "利用mat() 将数组转换成矩阵"
   ]
  },
  {
   "cell_type": "code",
   "execution_count": 57,
   "metadata": {},
   "outputs": [
    {
     "data": {
      "text/plain": [
       "matrix([[0.0173377 , 0.92082021, 0.94858091, 0.37933837],\n",
       "        [0.52512701, 0.72834776, 0.14897888, 0.29255637],\n",
       "        [0.4092298 , 0.7567624 , 0.11718347, 0.46274854],\n",
       "        [0.7256713 , 0.57950677, 0.838772  , 0.01330993]])"
      ]
     },
     "execution_count": 57,
     "metadata": {},
     "output_type": "execute_result"
    }
   ],
   "source": [
    "\n",
    "np.mat(np.random.rand(4,4))"
   ]
  }
 ],
 "metadata": {
  "kernelspec": {
   "display_name": "Python 3",
   "language": "python",
   "name": "python3"
  },
  "language_info": {
   "codemirror_mode": {
    "name": "ipython",
    "version": 3
   },
   "file_extension": ".py",
   "mimetype": "text/x-python",
   "name": "python",
   "nbconvert_exporter": "python",
   "pygments_lexer": "ipython3",
   "version": "3.9.13"
  },
  "orig_nbformat": 4
 },
 "nbformat": 4,
 "nbformat_minor": 2
}
