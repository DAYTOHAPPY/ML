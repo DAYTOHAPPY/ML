{
 "cells": [
  {
   "cell_type": "code",
   "execution_count": 60,
   "metadata": {},
   "outputs": [
    {
     "data": {
      "text/plain": [
       "array([[0.09086432, 0.49046461, 0.93588294, 0.85964453],\n",
       "       [0.63137268, 0.41886723, 0.56402886, 0.55285108],\n",
       "       [0.79163428, 0.08906517, 0.18364478, 0.00965139],\n",
       "       [0.38027123, 0.50591158, 0.60172131, 0.39003057]])"
      ]
     },
     "execution_count": 60,
     "metadata": {},
     "output_type": "execute_result"
    }
   ],
   "source": [
    "import numpy as np\n",
    "import  matplotlib as mpl\n",
    "import pandas as pd\n",
    "\n",
    "\n",
    "np.random.rand(4,4)\n",
    "#  利用numpy库随机生成 4x4 数组"
   ]
  },
  {
   "attachments": {},
   "cell_type": "markdown",
   "metadata": {},
   "source": [
    "## 利用mat() 将数组转换成矩阵"
   ]
  },
  {
   "cell_type": "code",
   "execution_count": 61,
   "metadata": {},
   "outputs": [
    {
     "data": {
      "text/plain": [
       "matrix([[0.22837534, 0.43886493, 0.00229375, 0.9651198 ],\n",
       "        [0.58421809, 0.50559587, 0.4442239 , 0.63481495],\n",
       "        [0.9690596 , 0.07118218, 0.4295229 , 0.59498694],\n",
       "        [0.61013116, 0.60590432, 0.85250536, 0.903296  ]])"
      ]
     },
     "execution_count": 61,
     "metadata": {},
     "output_type": "execute_result"
    }
   ],
   "source": [
    "    \n",
    "np.mat(np.random.rand(4,4))"
   ]
  }
 ],
 "metadata": {
  "kernelspec": {
   "display_name": "Python 3",
   "language": "python",
   "name": "python3"
  },
  "language_info": {
   "codemirror_mode": {
    "name": "ipython",
    "version": 3
   },
   "file_extension": ".py",
   "mimetype": "text/x-python",
   "name": "python",
   "nbconvert_exporter": "python",
   "pygments_lexer": "ipython3",
   "version": "3.9.13"
  },
  "orig_nbformat": 4
 },
 "nbformat": 4,
 "nbformat_minor": 2
}
